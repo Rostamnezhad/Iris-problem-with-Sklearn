{
 "cells": [
  {
   "cell_type": "code",
   "execution_count": 57,
   "id": "3ba5b427-0b89-4011-8a2d-35113a2c0994",
   "metadata": {},
   "outputs": [],
   "source": [
    "# this is solving Iris with Sklearn\n",
    "#importing what we need to start\n",
    "import matplotlib.pyplot as plt\n",
    "import pandas as pd\n",
    "from numpy import genfromtxt\n",
    "from sklearn import svm\n",
    "from sklearn.linear_model import LogisticRegression\n",
    "from sklearn.preprocessing import LabelEncoder, StandardScaler\n",
    "from sklearn.model_selection import train_test_split\n",
    "from sklearn.metrics import (accuracy_score, f1_score, recall_score, confusion_matrix, precision_score)"
   ]
  },
  {
   "cell_type": "code",
   "execution_count": 58,
   "id": "668413be-a96a-456e-aa24-36eaef689ec8",
   "metadata": {},
   "outputs": [],
   "source": [
    "features = genfromtxt(\"D:\\Desktop\\iris.csv\", delimiter = ',' , usecols = (0, 1, 2, 3), dtype = float, skip_header = 1)\n",
    "class_value = genfromtxt(\"D:\\Desktop\\iris.csv\", delimiter = ',' , usecols = (-1), dtype = str, skip_header = 1)\n",
    "#print(class_value)\n"
   ]
  },
  {
   "cell_type": "code",
   "execution_count": 59,
   "id": "5e063e78-bef9-478a-8685-28b8d401b6a6",
   "metadata": {},
   "outputs": [],
   "source": [
    "labels = LabelEncoder().fit_transform(class_value)\n",
    "\n",
    "# Step 2: Standardize features\n",
    "features_normalized = StandardScaler().fit_transform(features)\n",
    "\n",
    "# Step 3: Split data into training and testing sets\n",
    "x_train, x_test, y_train, y_test = train_test_split(features_normalized, labels, test_size=0.30, random_state=0)"
   ]
  },
  {
   "cell_type": "code",
   "execution_count": 87,
   "id": "d5d5a050-a59c-4fe7-a02d-c640b5c56121",
   "metadata": {},
   "outputs": [],
   "source": [
    "def print_stats_matrics(y_test, y_pred):\n",
    "    print (\"Accuracy is: %.2f \" % accuracy_score(y_test, y_pred))\n",
    "    print (\"F1 is: %.3f \" % f1_score(y_test, y_pred, average = \"weighted\"))\n",
    "    print (\"recall is: %.3f \" % recall_score(y_test, y_pred, average = \"weighted\"))\n",
    "    print (\"precision is: %.3f \" % precision_score(y_test, y_pred, average = \"weighted\"))\n",
    "    conf_mat = confusion_matrix(y_test, y_pred)\n",
    "    #print (conf_mat)\n",
    "    print (pd.crosstab(y_test, y_pred, rownames= [\"True\"], colnames=[\"Predicted\"], margins= True))"
   ]
  },
  {
   "cell_type": "code",
   "execution_count": 88,
   "id": "f19db50a-a676-4d6b-b978-124e6d48352b",
   "metadata": {},
   "outputs": [
    {
     "name": "stdout",
     "output_type": "stream",
     "text": [
      "Accuracy is: 0.98 \n",
      "F1 is: 0.978 \n",
      "recall is: 0.978 \n",
      "precision is: 0.980 \n",
      "Predicted   0   1   2  All\n",
      "True                      \n",
      "0          16   0   0   16\n",
      "1           0  17   1   18\n",
      "2           0   0  11   11\n",
      "All        16  17  12   45\n"
     ]
    }
   ],
   "source": [
    "#SVM\n",
    "svm1 = svm.SVC()\n",
    "svm1.fit(x_train, y_train)\n",
    "y_pred = svm1.predict(x_test)\n",
    "print_stats_matrics(y_test, y_pred)\n"
   ]
  },
  {
   "cell_type": "code",
   "execution_count": null,
   "id": "c297127d-7d9b-4d79-8f43-28a6201cc0b2",
   "metadata": {},
   "outputs": [],
   "source": []
  },
  {
   "cell_type": "code",
   "execution_count": null,
   "id": "09b943b2-8cdf-4d5c-96a0-c026adb0d904",
   "metadata": {},
   "outputs": [],
   "source": []
  }
 ],
 "metadata": {
  "kernelspec": {
   "display_name": "Python 3 (ipykernel)",
   "language": "python",
   "name": "python3"
  },
  "language_info": {
   "codemirror_mode": {
    "name": "ipython",
    "version": 3
   },
   "file_extension": ".py",
   "mimetype": "text/x-python",
   "name": "python",
   "nbconvert_exporter": "python",
   "pygments_lexer": "ipython3",
   "version": "3.11.7"
  },
  "widgets": {
   "application/vnd.jupyter.widget-state+json": {
    "state": {},
    "version_major": 2,
    "version_minor": 0
   }
  }
 },
 "nbformat": 4,
 "nbformat_minor": 5
}
